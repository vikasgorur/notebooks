{
 "cells": [
  {
   "cell_type": "markdown",
   "metadata": {},
   "source": [
    "# CS229: Lecture 2\n",
    "**Linear Regression, Gradient Descent**\n",
    "\n",
    "In this notebook we implement some of the concepts discussed in Lecture 2 of [CS229 - Machine Learning](https://see.stanford.edu/Course/CS229).\n",
    "\n",
    "First we import the relevant Python modules. This notebook has been written assuming Python 3.5"
   ]
  },
  {
   "cell_type": "code",
   "execution_count": 1,
   "metadata": {
    "collapsed": true
   },
   "outputs": [],
   "source": [
    "%matplotlib inline\n",
    "\n",
    "import pandas as pd\n",
    "import matplotlib.pyplot as plt\n",
    "import seaborn as sns\n",
    "import numpy as np\n",
    "\n",
    "from sklearn.preprocessing import scale"
   ]
  },
  {
   "cell_type": "markdown",
   "metadata": {},
   "source": [
    "A little searching leads us to the Portland housing prices [dataset](http://openclassroom.stanford.edu/MainFolder/courses/MachineLearning/exercises/ex3materials/ex3Data.zip) that's used as an example in the lecture. We load the dataset from the CSV file."
   ]
  },
  {
   "cell_type": "code",
   "execution_count": 2,
   "metadata": {
    "collapsed": false
   },
   "outputs": [],
   "source": [
    "houses = pd.read_csv('house_prices.csv')"
   ]
  },
  {
   "cell_type": "markdown",
   "metadata": {},
   "source": [
    "Let's plot the output variable (the price of a house) against each of the input variables (area in sq. feet, number of bedrooms) to get a little intuition about the data."
   ]
  },
  {
   "cell_type": "code",
   "execution_count": 3,
   "metadata": {
    "collapsed": false
   },
   "outputs": [
    {
     "data": {
      "image/png": "[encoded data removed]",
      "text/plain": [
       "<matplotlib.figure.Figure at 0x1074f9198>"
      ]
     },
     "metadata": {},
     "output_type": "display_data"
    }
   ],
   "source": [
    "plt.figure(1)\n",
    "plt.subplot(211)\n",
    "plt.xlabel('sq. feet')\n",
    "plt.ylabel('price (\\'000)')\n",
    "plt.scatter(houses['sqft'], houses['price'])\n",
    "plt.subplot(212)\n",
    "plt.xlabel('no. of rooms')\n",
    "plt.ylabel('price (\\'000)')\n",
    "plt.scatter(houses['rooms'], houses['price'])\n",
    "plt.tight_layout()"
   ]
  },
  {
   "cell_type": "markdown",
   "metadata": {},
   "source": [
    "Let's transform our data into the right matrix format. Note that we add a column of one's to the $X$ matrix, to be multiplied with $\\theta_0$."
   ]
  },
  {
   "cell_type": "code",
   "execution_count": 4,
   "metadata": {
    "collapsed": false
   },
   "outputs": [],
   "source": [
    "X = houses[['sqft', 'rooms']].as_matrix()\n",
    "X = np.column_stack([np.ones([X.shape[0]]), X])\n",
    "y = houses[['price']].as_matrix().ravel()"
   ]
  },
  {
   "cell_type": "markdown",
   "metadata": {},
   "source": [
    "Next we implement the hypothesis and cost functions and the parameter update using gradient descent."
   ]
  },
  {
   "cell_type": "code",
   "execution_count": 5,
   "metadata": {
    "collapsed": false
   },
   "outputs": [],
   "source": [
    "# Hypothesis function\n",
    "def h(theta, X):\n",
    "    return np.matmul(X, theta)\n",
    "\n",
    "# Cost function\n",
    "def J(theta, X, y):\n",
    "    d = h(theta, X) - y\n",
    "    return 0.5 * np.dot(d, d.T)\n",
    "\n",
    "# One step of gradient descent\n",
    "def descend(theta, X, y, alpha=0.01):\n",
    "    error = h(theta, X) - y\n",
    "    t = theta - alpha * np.matmul(X.T, error)\n",
    "    return t, np.dot(error, error.T)"
   ]
  },
  {
   "cell_type": "markdown",
   "metadata": {
    "collapsed": false
   },
   "source": [
    "We are now ready to fit the model using gradient descent. Let's initialize our parameters to 0 and run 50 iterations of gradient descent to see how it behaves."
   ]
  },
  {
   "cell_type": "code",
   "execution_count": 6,
   "metadata": {
    "collapsed": false
   },
   "outputs": [
    {
     "name": "stdout",
     "output_type": "stream",
     "text": [
      "epoch: 0, cost: 6165605522007.0\n",
      "epoch: 10, cost: 3.237353440305068e+139\n",
      "epoch: 20, cost: 1.7643253908567013e+266\n",
      "epoch: 30, cost: inf\n",
      "epoch: 40, cost: inf\n",
      "epoch: 49, cost: nan\n",
      "theta: [ nan  nan  nan]\n"
     ]
    }
   ],
   "source": [
    "theta = np.zeros([X.shape[1]])\n",
    "for i in range(50):\n",
    "    theta, cost = descend(theta, X, y)\n",
    "\n",
    "    if i % 10 == 0:\n",
    "        print(\"epoch: {0}, cost: {1}\".format(i, cost))\n",
    "\n",
    "print(\"epoch: {0}, cost: {1}\".format(i, cost))\n",
    "print(\"theta: {0}\".format(theta))"
   ]
  },
  {
   "cell_type": "markdown",
   "metadata": {},
   "source": [
    "That doesn't look good. We expected the cost to steadily decrease as gradient descent progressed. Instead, the cost function diverged so much it exceeded our ability to represent it as a floating-point number. What happened?\n",
    "\n",
    "The answer is that our training data is not on the right _scale_. The area in square feet is in the thousands, the number of rooms is 1-10 and the price is in the hundreds of thousands. With such widely varying numbers the gradient descent algorithm can overshoot the minimum and instead diverge to infinity.\n",
    "\n",
    "The solution is to scale all of the variables to have mean of 0 and variance of 1. We can use the `scale` function from `sklearn` to do this."
   ]
  },
  {
   "cell_type": "code",
   "execution_count": 7,
   "metadata": {
    "collapsed": true
   },
   "outputs": [],
   "source": [
    "X_scaled = scale(X)\n",
    "y_scaled = scale(y)"
   ]
  },
  {
   "cell_type": "markdown",
   "metadata": {},
   "source": [
    "We can plot the data again to visualize the effect of the scaling operation."
   ]
  },
  {
   "cell_type": "code",
   "execution_count": 8,
   "metadata": {
    "collapsed": false
   },
   "outputs": [
    {
     "data": {
      "image/png": "[encoded data removed]",
      "text/plain": [
       "<matplotlib.figure.Figure at 0x1075f4b38>"
      ]
     },
     "metadata": {},
     "output_type": "display_data"
    }
   ],
   "source": [
    "plt.figure(1)\n",
    "plt.subplot(211)\n",
    "plt.xlabel('sq. feet')\n",
    "plt.ylabel('price')\n",
    "plt.scatter(X_scaled[:, 1], y_scaled)\n",
    "plt.subplot(212)\n",
    "plt.xlabel('no. of rooms')\n",
    "plt.ylabel('price')\n",
    "plt.scatter(X_scaled[:, 2], y_scaled)\n",
    "plt.tight_layout()"
   ]
  },
  {
   "cell_type": "markdown",
   "metadata": {},
   "source": [
    "Let us write a function to fit the model such that it automatically stops once the improvement in the value of the cost function is below a certain threshold."
   ]
  },
  {
   "cell_type": "code",
   "execution_count": 9,
   "metadata": {
    "collapsed": true
   },
   "outputs": [],
   "source": [
    "def fit(X, y):\n",
    "    theta = np.zeros([X.shape[1]])\n",
    "    theta, cost = descend(theta, X, y)\n",
    "    \n",
    "    for i in range(10000):\n",
    "        cost_ = cost\n",
    "        theta, cost = descend(theta, X, y)\n",
    "        if cost_ - cost < 1e-7:\n",
    "            break\n",
    "            \n",
    "        if i % 10 == 0:\n",
    "            print(\"epoch: {0}, cost: {1}\".format(i, cost))\n",
    "\n",
    "    print(\"epoch: {0}, cost: {1}\".format(i, cost))\n",
    "    print(\"theta: {0}\".format(theta))"
   ]
  },
  {
   "cell_type": "markdown",
   "metadata": {},
   "source": [
    "Let's try to fit the model again with our scaled input and output matrices."
   ]
  },
  {
   "cell_type": "code",
   "execution_count": 10,
   "metadata": {
    "collapsed": false
   },
   "outputs": [
    {
     "name": "stdout",
     "output_type": "stream",
     "text": [
      "epoch: 0, cost: 20.079774540230776\n",
      "epoch: 10, cost: 12.607192671309607\n",
      "epoch: 20, cost: 12.552124442287859\n",
      "epoch: 30, cost: 12.551589402068807\n",
      "epoch: 38, cost: 12.551584281495716\n",
      "theta: [ 0.          0.88472172 -0.05313455]\n"
     ]
    }
   ],
   "source": [
    "fit(X_scaled, y_scaled)"
   ]
  },
  {
   "cell_type": "markdown",
   "metadata": {},
   "source": [
    "Success!\n",
    "\n",
    "The gradient descent converges in just 38 steps.\n",
    "\n",
    "We can verify that our solution is correct by fitting the same data using the library functions for linear regression in `sklearn`."
   ]
  },
  {
   "cell_type": "code",
   "execution_count": 11,
   "metadata": {
    "collapsed": false
   },
   "outputs": [
    {
     "data": {
      "text/plain": [
       "array([ 0.        ,  0.88476599, -0.05317882])"
      ]
     },
     "execution_count": 11,
     "metadata": {},
     "output_type": "execute_result"
    }
   ],
   "source": [
    "from sklearn.linear_model import LinearRegression\n",
    "\n",
    "l = LinearRegression(fit_intercept=False)\n",
    "l.fit(X_scaled, y_scaled)\n",
    "l.coef_"
   ]
  },
  {
   "cell_type": "markdown",
   "metadata": {},
   "source": [
    "The parameters are close enough to consider our solution correct."
   ]
  },
  {
   "cell_type": "markdown",
   "metadata": {},
   "source": [
    "## Stochastic Gradient Descent"
   ]
  },
  {
   "cell_type": "code",
   "execution_count": 48,
   "metadata": {
    "collapsed": true
   },
   "outputs": [],
   "source": [
    "# One step of gradient descent\n",
    "def stochastic_descend(theta, X, y, alpha=0.01):\n",
    "    X_sample = np.random.choice(X.shape[0], 47)\n",
    "    error = h(theta, X[X_sample]) - y[X_sample]\n",
    "    t = theta - alpha * np.matmul(X[X_sample].T, error)\n",
    "    return t, np.dot(error, error.T)"
   ]
  },
  {
   "cell_type": "code",
   "execution_count": 13,
   "metadata": {
    "collapsed": false
   },
   "outputs": [
    {
     "data": {
      "text/plain": [
       "array([  1.00000000e+00,   3.00000000e+03,   4.00000000e+00])"
      ]
     },
     "execution_count": 13,
     "metadata": {},
     "output_type": "execute_result"
    }
   ],
   "source": [
    "X[4]"
   ]
  },
  {
   "cell_type": "code",
   "execution_count": 51,
   "metadata": {
    "collapsed": true
   },
   "outputs": [],
   "source": [
    "def stochastic_fit(X, y):\n",
    "    theta = np.zeros([X.shape[1]])\n",
    "    theta, cost = descend(theta, X, y)\n",
    "    \n",
    "    for i in range(10000):\n",
    "        cost_ = cost\n",
    "        theta, cost = descend(theta, X, y)\n",
    "        if cost_ - cost < 1e-7:\n",
    "            break\n",
    "            \n",
    "        if i % 10 == 0:\n",
    "            print(\"epoch: {0}, cost: {1}\".format(i, cost))\n",
    "\n",
    "    print(\"epoch: {0}, cost: {1}\".format(i, cost))\n",
    "    print(\"theta: {0}\".format(theta))"
   ]
  },
  {
   "cell_type": "code",
   "execution_count": 52,
   "metadata": {
    "collapsed": false
   },
   "outputs": [
    {
     "name": "stdout",
     "output_type": "stream",
     "text": [
      "epoch: 0, cost: 20.079774540230776\n",
      "epoch: 10, cost: 12.607192671309607\n",
      "epoch: 20, cost: 12.552124442287859\n",
      "epoch: 30, cost: 12.551589402068807\n",
      "epoch: 38, cost: 12.551584281495716\n",
      "theta: [ 0.          0.88472172 -0.05313455]\n"
     ]
    }
   ],
   "source": [
    "stochastic_fit(X_scaled, y_scaled)"
   ]
  }
 ],
 "metadata": {
  "kernelspec": {
   "display_name": "Python 3",
   "language": "python",
   "name": "python3"
  },
  "language_info": {
   "codemirror_mode": {
    "name": "ipython",
    "version": 3
   },
   "file_extension": ".py",
   "mimetype": "text/x-python",
   "name": "python",
   "nbconvert_exporter": "python",
   "pygments_lexer": "ipython3",
   "version": "3.5.0"
  }
 },
 "nbformat": 4,
 "nbformat_minor": 0
}
