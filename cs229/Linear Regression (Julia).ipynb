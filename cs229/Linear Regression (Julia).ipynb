{
 "cells": [
  {
   "cell_type": "markdown",
   "metadata": {},
   "source": [
    "# Linear Regression\n",
    "\n",
    "This is the same gradient descent algorithm implemented in Julia."
   ]
  },
  {
   "cell_type": "code",
   "execution_count": 1,
   "metadata": {
    "collapsed": false
   },
   "outputs": [],
   "source": [
    "using DataFrames"
   ]
  },
  {
   "cell_type": "code",
   "execution_count": 2,
   "metadata": {
    "collapsed": false
   },
   "outputs": [
    {
     "data": {
      "text/html": [
       "<table class=\"data-frame\"><tr><th></th><th>sqft</th><th>rooms</th><th>price</th></tr><tr><th>1</th><td>2104.0</td><td>3.0</td><td>399900.0</td></tr><tr><th>2</th><td>1600.0</td><td>3.0</td><td>329900.0</td></tr><tr><th>3</th><td>2400.0</td><td>3.0</td><td>369000.0</td></tr><tr><th>4</th><td>1416.0</td><td>2.0</td><td>232000.0</td></tr><tr><th>5</th><td>3000.0</td><td>4.0</td><td>539900.0</td></tr><tr><th>6</th><td>1985.0</td><td>4.0</td><td>299900.0</td></tr></table>"
      ],
      "text/plain": [
       "6x3 DataFrames.DataFrame\n",
       "│ Row │ sqft   │ rooms │ price    │\n",
       "┝━━━━━┿━━━━━━━━┿━━━━━━━┿━━━━━━━━━━┥\n",
       "│ 1   │ 2104.0 │ 3.0   │ 399900.0 │\n",
       "│ 2   │ 1600.0 │ 3.0   │ 329900.0 │\n",
       "│ 3   │ 2400.0 │ 3.0   │ 369000.0 │\n",
       "│ 4   │ 1416.0 │ 2.0   │ 232000.0 │\n",
       "│ 5   │ 3000.0 │ 4.0   │ 539900.0 │\n",
       "│ 6   │ 1985.0 │ 4.0   │ 299900.0 │"
      ]
     },
     "execution_count": 2,
     "metadata": {},
     "output_type": "execute_result"
    }
   ],
   "source": [
    "houses = readtable(\"house_prices.csv\")\n",
    "head(houses)"
   ]
  },
  {
   "cell_type": "code",
   "execution_count": 3,
   "metadata": {
    "collapsed": false
   },
   "outputs": [],
   "source": [
    "standardize(v) = (v - mean(v)) / std(v)\n",
    "\n",
    "m = size(houses)[1]\n",
    "\n",
    "y = standardize(houses[:price])\n",
    "X = [ones(m) standardize(houses[:sqft]) standardize(houses[:rooms])];"
   ]
  },
  {
   "cell_type": "code",
   "execution_count": 4,
   "metadata": {
    "collapsed": false
   },
   "outputs": [
    {
     "data": {
      "text/plain": [
       "descend (generic function with 2 methods)"
      ]
     },
     "execution_count": 4,
     "metadata": {},
     "output_type": "execute_result"
    }
   ],
   "source": [
    "h(θ, X) = X * θ\n",
    "\n",
    "J(θ, X, y) = 0.5 * norm(h(θ, X) - y)\n",
    "\n",
    "function descend(θ, X, y, α = 0.01)\n",
    "    θ_ = θ - α * X' * (h(θ, X) - y)\n",
    "    θ_, norm(h(θ, X) - y)\n",
    "end"
   ]
  },
  {
   "cell_type": "code",
   "execution_count": 5,
   "metadata": {
    "collapsed": false
   },
   "outputs": [
    {
     "data": {
      "text/plain": [
       "fit (generic function with 1 method)"
      ]
     },
     "execution_count": 5,
     "metadata": {},
     "output_type": "execute_result"
    }
   ],
   "source": [
    "function fit(X, y)\n",
    "    θ = zeros(size(X)[2])\n",
    "    \n",
    "    θ, cost = descend(θ, X, y)\n",
    "    for i in 1:1000\n",
    "        cost_ = cost\n",
    "        θ, cost = descend(θ, X, y)\n",
    "        if cost_ - cost < 1e-8\n",
    "            break\n",
    "        end\n",
    "        \n",
    "        if i % 10 == 0\n",
    "            println(\"epoch: $i, cost: $cost\")\n",
    "        end\n",
    "    end\n",
    "    \n",
    "    println(\"theta: $θ\")\n",
    "end"
   ]
  },
  {
   "cell_type": "code",
   "execution_count": 6,
   "metadata": {
    "collapsed": false
   },
   "outputs": [
    {
     "name": "stdout",
     "output_type": "stream",
     "text": [
      "epoch: 10, cost: 3.5186869504409986\n",
      "epoch: 20, cost: 3.50507886569909\n",
      "epoch: 30, cost: 3.5049308911511154\n",
      "epoch: 40, cost: 3.5049292851904403\n",
      "theta: [-9.770016826810002e-17,0.8847308497460539,-0.0531436815543813]\n"
     ]
    }
   ],
   "source": [
    "fit(X, y)"
   ]
  }
 ],
 "metadata": {
  "kernelspec": {
   "display_name": "Julia 0.4.5",
   "language": "julia",
   "name": "julia-0.4"
  },
  "language_info": {
   "file_extension": ".jl",
   "mimetype": "application/julia",
   "name": "julia",
   "version": "0.4.5"
  }
 },
 "nbformat": 4,
 "nbformat_minor": 0
}
