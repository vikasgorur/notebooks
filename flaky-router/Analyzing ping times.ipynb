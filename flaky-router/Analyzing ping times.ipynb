{
 "cells": [
  {
   "cell_type": "code",
   "execution_count": 17,
   "metadata": {
    "collapsed": false
   },
   "outputs": [],
   "source": [
    "%matplotlib inline\n",
    "\n",
    "import re\n",
    "import pandas as pd\n",
    "import math\n",
    "import matplotlib.pyplot as plt\n",
    "import seaborn as sns"
   ]
  },
  {
   "cell_type": "code",
   "execution_count": 4,
   "metadata": {
    "collapsed": false
   },
   "outputs": [],
   "source": [
    "def process_log(log):\n",
    "    \"Process lines of the log and return a [id, latency] row for every valid data point\"\n",
    "    for line in log:\n",
    "        id = re.findall('icmp_seq.(\\d+)', line)\n",
    "        if id:\n",
    "            if 'timeout' in line:\n",
    "                yield [int(id[0]), 0, True]\n",
    "            else:\n",
    "                latency = re.findall('time=(\\d+\\.\\d+)', line)\n",
    "                if latency:\n",
    "                    yield [int(id[0]), float(latency[0]), False]\n",
    "        "
   ]
  },
  {
   "cell_type": "code",
   "execution_count": 5,
   "metadata": {
    "collapsed": false
   },
   "outputs": [],
   "source": [
    "pings = None\n",
    "with open(\"ping.log\") as log:\n",
    "    pings = pd.DataFrame(list(process_log(log)), columns=['seq', 'latency', 'timeout'])\n",
    "    "
   ]
  },
  {
   "cell_type": "code",
   "execution_count": 6,
   "metadata": {
    "collapsed": false
   },
   "outputs": [],
   "source": [
    "latency_p999 = pings.latency.quantile(.999)\n",
    "pings_p999 = pings[pings.latency < latency_p999]"
   ]
  },
  {
   "cell_type": "code",
   "execution_count": 24,
   "metadata": {
    "collapsed": false
   },
   "outputs": [
    {
     "name": "stderr",
     "output_type": "stream",
     "text": [
      "/opt/twitter/lib/python3.5/site-packages/ipykernel/__main__.py:2: SettingWithCopyWarning: \n",
      "A value is trying to be set on a copy of a slice from a DataFrame.\n",
      "Try using .loc[row_indexer,col_indexer] = value instead\n",
      "\n",
      "See the caveats in the documentation: http://pandas.pydata.org/pandas-docs/stable/indexing.html#indexing-view-versus-copy\n",
      "  from ipykernel import kernelapp as app\n"
     ]
    },
    {
     "data": {
      "text/plain": [
       "array([[<matplotlib.axes._subplots.AxesSubplot object at 0x115901f60>]], dtype=object)"
      ]
     },
     "execution_count": 24,
     "metadata": {},
     "output_type": "execute_result"
    },
    {
     "data": {
      "image/png": "[encoded data removed]",
      "text/plain": [
       "<matplotlib.figure.Figure at 0x1157d3550>"
      ]
     },
     "metadata": {},
     "output_type": "display_data"
    }
   ],
   "source": [
    "non_timeout = pings_p999[pings_p999.timeout != True]\n",
    "non_timeout['log_latency'] = non_timeout.latency.apply(lambda l: math.log(l))\n",
    "pd.DataFrame.hist(non_timeout, column='log_latency', bins=25)"
   ]
  },
  {
   "cell_type": "code",
   "execution_count": 21,
   "metadata": {
    "collapsed": false
   },
   "outputs": [
    {
     "data": {
      "text/plain": [
       "count    24045.000000\n",
       "mean         5.526389\n",
       "std          6.611455\n",
       "min          0.000000\n",
       "25%          2.690000\n",
       "50%          4.323000\n",
       "75%          5.168000\n",
       "max        104.912000\n",
       "Name: latency, dtype: float64"
      ]
     },
     "execution_count": 21,
     "metadata": {},
     "output_type": "execute_result"
    }
   ],
   "source": []
  }
 ],
 "metadata": {
  "kernelspec": {
   "display_name": "Python 3",
   "language": "python",
   "name": "python3"
  },
  "language_info": {
   "codemirror_mode": {
    "name": "ipython",
    "version": 3
   },
   "file_extension": ".py",
   "mimetype": "text/x-python",
   "name": "python",
   "nbconvert_exporter": "python",
   "pygments_lexer": "ipython3",
   "version": "3.5.0"
  }
 },
 "nbformat": 4,
 "nbformat_minor": 0
}
