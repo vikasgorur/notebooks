{
 "cells": [
  {
   "cell_type": "code",
   "execution_count": 7,
   "metadata": {
    "collapsed": false
   },
   "outputs": [
    {
     "data": {
      "text/plain": [
       "evalue (generic function with 1 method)"
      ]
     },
     "execution_count": 7,
     "metadata": {},
     "output_type": "execute_result"
    }
   ],
   "source": [
    "function evalue(A)\n",
    "    n = size(A)[1]\n",
    "    v = ones(n)\n",
    "    \n",
    "    i = 0\n",
    "    v_next = A*v / norm(A*v)\n",
    "    while norm(v_next - v) > 1e-5 && i < 10000\n",
    "        i += 1\n",
    "        v = v_next\n",
    "        v_next = A*v / norm(A*v)\n",
    "    end\n",
    "    \n",
    "    if i == 10000\n",
    "        return false\n",
    "    end\n",
    "\n",
    "    v_next\n",
    "end"
   ]
  },
  {
   "cell_type": "code",
   "execution_count": 10,
   "metadata": {
    "collapsed": false
   },
   "outputs": [
    {
     "data": {
      "text/plain": [
       "([-0.713190862923451,0.7343674157670204,0.9178607072846022],\n",
       "3x3 Array{Float64,2}:\n",
       " -0.690279  0.947295  -0.0191414\n",
       "  0.292139  0.245601  -0.182269 \n",
       "  0.661943  0.205697   0.983062 )"
      ]
     },
     "execution_count": 10,
     "metadata": {},
     "output_type": "execute_result"
    }
   ],
   "source": [
    "a = randn(3, 3)\n",
    "eig(a)"
   ]
  },
  {
   "cell_type": "code",
   "execution_count": 11,
   "metadata": {
    "collapsed": false
   },
   "outputs": [
    {
     "name": "stdout",
     "output_type": "stream",
     "text": [
      "[0.019183593054240104,0.18227737265349772,-0.9830599926637577]\n"
     ]
    }
   ],
   "source": [
    "println(evalue(a))"
   ]
  }
 ],
 "metadata": {
  "kernelspec": {
   "display_name": "Julia 0.4.5",
   "language": "julia",
   "name": "julia-0.4"
  },
  "language_info": {
   "file_extension": ".jl",
   "mimetype": "application/julia",
   "name": "julia",
   "version": "0.4.5"
  }
 },
 "nbformat": 4,
 "nbformat_minor": 0
}
