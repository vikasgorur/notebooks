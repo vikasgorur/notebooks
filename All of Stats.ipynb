{
 "cells": [
  {
   "cell_type": "markdown",
   "metadata": {},
   "source": [
    "# Problem\n",
    "\n",
    "_All of Statistics_, 3.8.1\n",
    "\n",
    "Suppose we play a game where we start with $c$ dollars. On each play of the game you either double or halve your money, with equal probability. What is your expected fortune after n trials?\n",
    "\n",
    "# Solution\n",
    "\n",
    "Let $f(n)$ be the amount of money left after $n$ trials. We are interested in the expected value of this, $E[f(n)]$, which we can write as:\n",
    "\n",
    "$E[f(n)] = \\frac{1}{2} \\cdot \\frac{E[f(n-1)]}{2} + \\frac{1}{2} \\cdot 2 \\cdot E[f(n-1)]$\n",
    "\n",
    "$ = \\frac{5}{4} E[f(n-1)]$\n",
    "\n",
    "$ = \\frac{5}{4}^{(n-1)} E[f(0)]$\n",
    "\n",
    "$E[f(n)] = c \\cdot \\frac{5}{4}^{(n-1)}$"
   ]
  },
  {
   "cell_type": "code",
   "execution_count": null,
   "metadata": {},
   "outputs": [],
   "source": []
  }
 ],
 "metadata": {
  "kernelspec": {
   "display_name": "Python 3",
   "language": "python",
   "name": "python3"
  },
  "language_info": {
   "codemirror_mode": {
    "name": "ipython",
    "version": 3
   },
   "file_extension": ".py",
   "mimetype": "text/x-python",
   "name": "python",
   "nbconvert_exporter": "python",
   "pygments_lexer": "ipython3",
   "version": "3.6.2"
  }
 },
 "nbformat": 4,
 "nbformat_minor": 2
}
